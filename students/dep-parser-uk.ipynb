{
 "cells": [
  {
   "cell_type": "markdown",
   "metadata": {},
   "source": [
    "# Transition-based arc-eager unlabeled dependency parser for Ukrainian"
   ]
  },
  {
   "cell_type": "markdown",
   "metadata": {},
   "source": [
    "## Read the data\n",
    "\n",
    "Useful links:\n",
    "* [UD corpus for Ukrainian](https://github.com/UniversalDependencies/UD_Ukrainian-IU/)\n",
    "* [Easy-to-use library for parsing UD](https://github.com/EmilStenstrom/conllu)"
   ]
  },
  {
   "cell_type": "code",
   "execution_count": 1,
   "metadata": {},
   "outputs": [
    {
     "output_type": "stream",
     "name": "stdout",
     "text": "/home/ihor/ds/nlp/module3/students\n"
    }
   ],
   "source": [
    "!pwd"
   ]
  },
  {
   "cell_type": "code",
   "execution_count": 2,
   "metadata": {},
   "outputs": [],
   "source": [
    "from collections import OrderedDict\n",
    "from conllu import parse\n",
    "from enum import Enum\n",
    "\n",
    "PATH = \"../UD_Ukrainian-IU\"\n",
    "\n",
    "with open(PATH + \"/uk_iu-ud-train.conllu\", \"r\") as f:\n",
    "    train_trees = parse(f.read())\n",
    "\n",
    "with open(PATH + \"/uk_iu-ud-dev.conllu\", \"r\") as f:\n",
    "    test_trees = parse(f.read())"
   ]
  },
  {
   "cell_type": "code",
   "execution_count": 4,
   "metadata": {},
   "outputs": [
    {
     "output_type": "stream",
     "name": "stdout",
     "text": "У домі римського патриція Руфіна була прегарна фреска, зображення Венери та Адоніса.\n(deprel:root) form:була lemma:бути upos:VERB [6]\n    (deprel:obl) form:домі lemma:дім upos:NOUN [2]\n        (deprel:case) form:У lemma:у upos:ADP [1]\n        (deprel:nmod) form:патриція lemma:патрицій upos:NOUN [4]\n            (deprel:amod) form:римського lemma:римський upos:ADJ [3]\n            (deprel:flat:title) form:Руфіна lemma:Руфін upos:PROPN [5]\n    (deprel:nsubj) form:фреска lemma:фреска upos:NOUN [8]\n        (deprel:amod) form:прегарна lemma:прегарний upos:ADJ [7]\n        (deprel:appos) form:зображення lemma:зображення upos:NOUN [10]\n            (deprel:punct) form:, lemma:, upos:PUNCT [9]\n            (deprel:nmod) form:Венери lemma:Венера upos:PROPN [11]\n                (deprel:conj) form:Адоніса lemma:Адоніс upos:PROPN [13]\n                    (deprel:cc) form:та lemma:та upos:CCONJ [12]\n    (deprel:punct) form:. lemma:. upos:PUNCT [14]\n"
    }
   ],
   "source": [
    "print(train_trees[0].metadata['text'])\n",
    "train_trees[0].to_tree().print_tree()"
   ]
  },
  {
   "cell_type": "markdown",
   "metadata": {},
   "source": [
    "## Design actions and the oracle\n",
    "\n",
    "We will be using a static oracle that reproduces a single valid order of actions."
   ]
  },
  {
   "cell_type": "code",
   "execution_count": 6,
   "metadata": {},
   "outputs": [],
   "source": [
    "class Actions(str, Enum):\n",
    "    SHIFT = \"shift\"\n",
    "    REDUCE = \"reduce\"\n",
    "    RIGHT = \"right\"\n",
    "    LEFT = \"left\"\n",
    "    SWAP = \"swap\""
   ]
  },
  {
   "cell_type": "code",
   "execution_count": 22,
   "metadata": {},
   "outputs": [],
   "source": [
    "def oracle(stack, top_queue, relations, verbose=False):\n",
    "    \"\"\"\n",
    "    Make a decision on the right action to do.\n",
    "    \"\"\"\n",
    "    top_stack = stack[-1]\n",
    "    # stack.join(',')\n",
    "    \n",
    "    print_text = f\"\\tStack: {[t.form for t in stack]}, \\n\\t Top queue: {top_queue.form} \\n\\t Relation {relations}\" \n",
    "\n",
    "    # default action\n",
    "    action = Actions.SHIFT\n",
    "\n",
    "    # check if both stack and queue are non-empty\n",
    "    if top_stack and not top_queue:\n",
    "        action = Actions.REDUCE\n",
    "    # check if there are any clear dependencies\n",
    "    elif top_queue[\"head\"] == top_stack[\"id\"]:\n",
    "        action = Actions.RIGHT\n",
    "    elif top_stack[\"head\"] == top_queue[\"id\"]:\n",
    "        action = Actions.LEFT\n",
    "    # check if we can reduce the top of the stack\n",
    "    elif top_stack[\"id\"] in [i[0] for i in relations] and \\\n",
    "         (top_queue[\"head\"] < top_stack[\"id\"] or \\\n",
    "          [s for s in stack if s[\"head\"] == top_queue[\"id\"]]):\n",
    "        action = Actions.REDUCE\n",
    "\n",
    "    if verbose:\n",
    "        print(print_text)\n",
    "    return action\n"
   ]
  },
  {
   "cell_type": "markdown",
   "metadata": {},
   "source": [
    "## Feature extraction\n",
    "\n",
    "Reference: [Dependency Parsing by Kübler, McDonald, and Nivre](https://books.google.com.ua/books?id=k3iiup7HB9UC&pg=PA21&hl=uk&source=gbs_toc_r&cad=4#v=onepage&q&f=false)"
   ]
  },
  {
   "cell_type": "code",
   "execution_count": 8,
   "metadata": {},
   "outputs": [],
   "source": [
    "def extract_features(stack, queue, verbose=False):\n",
    "    features = dict()\n",
    "    if len(stack) > 0:\n",
    "        stack_top = stack[-1]\n",
    "        features[\"s0-word\"] = stack_top[\"form\"]\n",
    "        features[\"s0-lemma\"] = stack_top[\"lemma\"]\n",
    "        features[\"s0-tag\"] = stack_top[\"upostag\"]\n",
    "        features[\"s0-deprel\"] = stack_top[\"deprel\"]\n",
    "        \n",
    "    if len(stack) > 1:\n",
    "        features[\"s1-tag\"] = stack[-2][\"upostag\"]\n",
    "    if queue:\n",
    "        queue_top = queue[0]\n",
    "        features[\"q0-word\"] = queue_top[\"form\"]\n",
    "        features[\"q0-lemma\"] = queue_top[\"lemma\"]\n",
    "        features[\"q0-tag\"] = queue_top[\"upostag\"]\n",
    "    if len(queue) > 1:\n",
    "        queue_next = queue[1]\n",
    "        features[\"q1-word\"] = queue_next[\"form\"]\n",
    "        features[\"q1-tag\"] = queue_next[\"upostag\"]\n",
    "    if len(queue) > 2:\n",
    "        features[\"q2-tag\"] = queue[2][\"upostag\"]\n",
    "    if len(queue) > 3:\n",
    "        features[\"q3-tag\"] = queue[3][\"upostag\"]\n",
    "    return features"
   ]
  },
  {
   "cell_type": "markdown",
   "metadata": {},
   "source": [
    "## Prepare train and test data"
   ]
  },
  {
   "cell_type": "code",
   "execution_count": 9,
   "metadata": {},
   "outputs": [],
   "source": [
    "ROOT = OrderedDict([('id', 0), ('form', 'ROOT'), ('lemma', 'ROOT'), ('upostag', 'ROOT'),\n",
    "                    ('xpostag', None), ('feats', None), ('head', None), ('deprel', None),\n",
    "                    ('deps', None), ('misc', None)])"
   ]
  },
  {
   "cell_type": "code",
   "execution_count": 20,
   "metadata": {},
   "outputs": [],
   "source": [
    "def get_data(tree, verbose=False):\n",
    "    features, labels = [], []\n",
    "    stack, queue, relations = [ROOT], tree[:], []\n",
    "\n",
    "    if verbose:\n",
    "        print(\"-\"*20)\n",
    "\n",
    "    while queue or stack:\n",
    "        # get action\n",
    "        action = oracle(stack if len(stack) > 0 else None,\n",
    "                        queue[0] if len(queue) > 0 else None,\n",
    "                        relations, verbose)\n",
    "\n",
    "        # Update train data\n",
    "        features.append(extract_features(stack, queue))\n",
    "        labels.append(action.value)\n",
    "        \n",
    "        # Perform action\n",
    "        if action == Actions.SHIFT:\n",
    "            stack.append(queue.pop(0))\n",
    "        elif action == Actions.REDUCE:\n",
    "            stack.pop()\n",
    "        elif action == Actions.LEFT:\n",
    "            relations.append((stack[-1][\"id\"], queue[0][\"id\"]))\n",
    "            stack.pop()\n",
    "        elif action == Actions.RIGHT:\n",
    "            relations.append((queue[0][\"id\"], stack[-1][\"id\"]))\n",
    "            stack.append(queue.pop(0))\n",
    "        else:\n",
    "            print(\"Unknown action.\")\n",
    "    return features, labels"
   ]
  },
  {
   "cell_type": "code",
   "execution_count": 23,
   "metadata": {
    "tags": [
     "outputPrepend"
    ]
   },
   "outputs": [
    {
     "output_type": "stream",
     "name": "stdout",
     "text": "rel': 'appos', 'deps': [('appos', 8)], 'misc': {'Id': '000c', 'LTranslit': 'zobraženńа', 'Translit': 'zobraženńа'}}, {'id': 11, 'form': 'Венери', 'lemma': 'Венера', 'upos': 'PROPN', 'xpos': 'Npfsgy', 'feats': {'Animacy': 'Anim', 'Case': 'Gen', 'Gender': 'Fem', 'NameType': 'Giv', 'Number': 'Sing'}, 'head': 10, 'deprel': 'nmod', 'deps': [('nmod', 10)], 'misc': {'Id': '000d', 'LTranslit': 'Venera', 'Translit': 'Venery'}}], \n\t Top queue: {'id': 12, 'form': 'та', 'lemma': 'та', 'upos': 'CCONJ', 'xpos': 'Ccs', 'feats': None, 'head': 13, 'deprel': 'cc', 'deps': [('cc', 13)], 'misc': {'Id': '000e', 'LTranslit': 'ta', 'Translit': 'ta'}} \n\t Relation [(1, 2), (3, 4), (4, 2), (5, 4), (2, 6), (6, 0), (7, 8), (8, 6), (9, 10), (10, 8), (11, 10)]\nStack: [OrderedDict([('id', 0), ('form', 'ROOT'), ('lemma', 'ROOT'), ('upostag', 'ROOT'), ('xpostag', None), ('feats', None), ('head', None), ('deprel', None), ('deps', None), ('misc', None)]), {'id': 6, 'form': 'була', 'lemma': 'бути', 'upos': 'VERB', 'xpos': 'Vapis-sf', 'feats': {'Aspect': 'Imp', 'Gender': 'Fem', 'Mood': 'Ind', 'Number': 'Sing', 'Tense': 'Past', 'VerbForm': 'Fin'}, 'head': 0, 'deprel': 'root', 'deps': [('root', 0)], 'misc': {'Id': '0008', 'LTranslit': 'buty', 'Translit': 'bula'}}, {'id': 8, 'form': 'фреска', 'lemma': 'фреска', 'upos': 'NOUN', 'xpos': 'Ncfsnn', 'feats': {'Animacy': 'Inan', 'Case': 'Nom', 'Gender': 'Fem', 'Number': 'Sing'}, 'head': 6, 'deprel': 'nsubj', 'deps': [('nsubj', 6)], 'misc': {'Id': '000a', 'LTranslit': 'freska', 'SpaceAfter': 'No', 'Translit': 'freska'}}, {'id': 10, 'form': 'зображення', 'lemma': 'зображення', 'upos': 'NOUN', 'xpos': 'Ncnsnn', 'feats': {'Animacy': 'Inan', 'Case': 'Nom', 'Gender': 'Neut', 'Number': 'Sing'}, 'head': 8, 'deprel': 'appos', 'deps': [('appos', 8)], 'misc': {'Id': '000c', 'LTranslit': 'zobraženńа', 'Translit': 'zobraženńа'}}, {'id': 11, 'form': 'Венери', 'lemma': 'Венера', 'upos': 'PROPN', 'xpos': 'Npfsgy', 'feats': {'Animacy': 'Anim', 'Case': 'Gen', 'Gender': 'Fem', 'NameType': 'Giv', 'Number': 'Sing'}, 'head': 10, 'deprel': 'nmod', 'deps': [('nmod', 10)], 'misc': {'Id': '000d', 'LTranslit': 'Venera', 'Translit': 'Venery'}}, {'id': 12, 'form': 'та', 'lemma': 'та', 'upos': 'CCONJ', 'xpos': 'Ccs', 'feats': None, 'head': 13, 'deprel': 'cc', 'deps': [('cc', 13)], 'misc': {'Id': '000e', 'LTranslit': 'ta', 'Translit': 'ta'}}], \n\t Top queue: {'id': 13, 'form': 'Адоніса', 'lemma': 'Адоніс', 'upos': 'PROPN', 'xpos': 'Npmsgy', 'feats': {'Animacy': 'Anim', 'Case': 'Gen', 'Gender': 'Masc', 'NameType': 'Giv', 'Number': 'Sing'}, 'head': 11, 'deprel': 'conj', 'deps': [('nmod', 10), ('conj', 11)], 'misc': {'Id': '000f', 'LTranslit': 'Adonis', 'SpaceAfter': 'No', 'Translit': 'Adonisa'}} \n\t Relation [(1, 2), (3, 4), (4, 2), (5, 4), (2, 6), (6, 0), (7, 8), (8, 6), (9, 10), (10, 8), (11, 10)]\nStack: [OrderedDict([('id', 0), ('form', 'ROOT'), ('lemma', 'ROOT'), ('upostag', 'ROOT'), ('xpostag', None), ('feats', None), ('head', None), ('deprel', None), ('deps', None), ('misc', None)]), {'id': 6, 'form': 'була', 'lemma': 'бути', 'upos': 'VERB', 'xpos': 'Vapis-sf', 'feats': {'Aspect': 'Imp', 'Gender': 'Fem', 'Mood': 'Ind', 'Number': 'Sing', 'Tense': 'Past', 'VerbForm': 'Fin'}, 'head': 0, 'deprel': 'root', 'deps': [('root', 0)], 'misc': {'Id': '0008', 'LTranslit': 'buty', 'Translit': 'bula'}}, {'id': 8, 'form': 'фреска', 'lemma': 'фреска', 'upos': 'NOUN', 'xpos': 'Ncfsnn', 'feats': {'Animacy': 'Inan', 'Case': 'Nom', 'Gender': 'Fem', 'Number': 'Sing'}, 'head': 6, 'deprel': 'nsubj', 'deps': [('nsubj', 6)], 'misc': {'Id': '000a', 'LTranslit': 'freska', 'SpaceAfter': 'No', 'Translit': 'freska'}}, {'id': 10, 'form': 'зображення', 'lemma': 'зображення', 'upos': 'NOUN', 'xpos': 'Ncnsnn', 'feats': {'Animacy': 'Inan', 'Case': 'Nom', 'Gender': 'Neut', 'Number': 'Sing'}, 'head': 8, 'deprel': 'appos', 'deps': [('appos', 8)], 'misc': {'Id': '000c', 'LTranslit': 'zobraženńа', 'Translit': 'zobraženńа'}}, {'id': 11, 'form': 'Венери', 'lemma': 'Венера', 'upos': 'PROPN', 'xpos': 'Npfsgy', 'feats': {'Animacy': 'Anim', 'Case': 'Gen', 'Gender': 'Fem', 'NameType': 'Giv', 'Number': 'Sing'}, 'head': 10, 'deprel': 'nmod', 'deps': [('nmod', 10)], 'misc': {'Id': '000d', 'LTranslit': 'Venera', 'Translit': 'Venery'}}], \n\t Top queue: {'id': 13, 'form': 'Адоніса', 'lemma': 'Адоніс', 'upos': 'PROPN', 'xpos': 'Npmsgy', 'feats': {'Animacy': 'Anim', 'Case': 'Gen', 'Gender': 'Masc', 'NameType': 'Giv', 'Number': 'Sing'}, 'head': 11, 'deprel': 'conj', 'deps': [('nmod', 10), ('conj', 11)], 'misc': {'Id': '000f', 'LTranslit': 'Adonis', 'SpaceAfter': 'No', 'Translit': 'Adonisa'}} \n\t Relation [(1, 2), (3, 4), (4, 2), (5, 4), (2, 6), (6, 0), (7, 8), (8, 6), (9, 10), (10, 8), (11, 10), (12, 13)]\nStack: [OrderedDict([('id', 0), ('form', 'ROOT'), ('lemma', 'ROOT'), ('upostag', 'ROOT'), ('xpostag', None), ('feats', None), ('head', None), ('deprel', None), ('deps', None), ('misc', None)]), {'id': 6, 'form': 'була', 'lemma': 'бути', 'upos': 'VERB', 'xpos': 'Vapis-sf', 'feats': {'Aspect': 'Imp', 'Gender': 'Fem', 'Mood': 'Ind', 'Number': 'Sing', 'Tense': 'Past', 'VerbForm': 'Fin'}, 'head': 0, 'deprel': 'root', 'deps': [('root', 0)], 'misc': {'Id': '0008', 'LTranslit': 'buty', 'Translit': 'bula'}}, {'id': 8, 'form': 'фреска', 'lemma': 'фреска', 'upos': 'NOUN', 'xpos': 'Ncfsnn', 'feats': {'Animacy': 'Inan', 'Case': 'Nom', 'Gender': 'Fem', 'Number': 'Sing'}, 'head': 6, 'deprel': 'nsubj', 'deps': [('nsubj', 6)], 'misc': {'Id': '000a', 'LTranslit': 'freska', 'SpaceAfter': 'No', 'Translit': 'freska'}}, {'id': 10, 'form': 'зображення', 'lemma': 'зображення', 'upos': 'NOUN', 'xpos': 'Ncnsnn', 'feats': {'Animacy': 'Inan', 'Case': 'Nom', 'Gender': 'Neut', 'Number': 'Sing'}, 'head': 8, 'deprel': 'appos', 'deps': [('appos', 8)], 'misc': {'Id': '000c', 'LTranslit': 'zobraženńа', 'Translit': 'zobraženńа'}}, {'id': 11, 'form': 'Венери', 'lemma': 'Венера', 'upos': 'PROPN', 'xpos': 'Npfsgy', 'feats': {'Animacy': 'Anim', 'Case': 'Gen', 'Gender': 'Fem', 'NameType': 'Giv', 'Number': 'Sing'}, 'head': 10, 'deprel': 'nmod', 'deps': [('nmod', 10)], 'misc': {'Id': '000d', 'LTranslit': 'Venera', 'Translit': 'Venery'}}, {'id': 13, 'form': 'Адоніса', 'lemma': 'Адоніс', 'upos': 'PROPN', 'xpos': 'Npmsgy', 'feats': {'Animacy': 'Anim', 'Case': 'Gen', 'Gender': 'Masc', 'NameType': 'Giv', 'Number': 'Sing'}, 'head': 11, 'deprel': 'conj', 'deps': [('nmod', 10), ('conj', 11)], 'misc': {'Id': '000f', 'LTranslit': 'Adonis', 'SpaceAfter': 'No', 'Translit': 'Adonisa'}}], \n\t Top queue: {'id': 14, 'form': '.', 'lemma': '.', 'upos': 'PUNCT', 'xpos': 'U', 'feats': None, 'head': 6, 'deprel': 'punct', 'deps': [('punct', 6)], 'misc': {'Id': '000g', 'LTranslit': '.', 'Translit': '.'}} \n\t Relation [(1, 2), (3, 4), (4, 2), (5, 4), (2, 6), (6, 0), (7, 8), (8, 6), (9, 10), (10, 8), (11, 10), (12, 13), (13, 11)]\nStack: [OrderedDict([('id', 0), ('form', 'ROOT'), ('lemma', 'ROOT'), ('upostag', 'ROOT'), ('xpostag', None), ('feats', None), ('head', None), ('deprel', None), ('deps', None), ('misc', None)]), {'id': 6, 'form': 'була', 'lemma': 'бути', 'upos': 'VERB', 'xpos': 'Vapis-sf', 'feats': {'Aspect': 'Imp', 'Gender': 'Fem', 'Mood': 'Ind', 'Number': 'Sing', 'Tense': 'Past', 'VerbForm': 'Fin'}, 'head': 0, 'deprel': 'root', 'deps': [('root', 0)], 'misc': {'Id': '0008', 'LTranslit': 'buty', 'Translit': 'bula'}}, {'id': 8, 'form': 'фреска', 'lemma': 'фреска', 'upos': 'NOUN', 'xpos': 'Ncfsnn', 'feats': {'Animacy': 'Inan', 'Case': 'Nom', 'Gender': 'Fem', 'Number': 'Sing'}, 'head': 6, 'deprel': 'nsubj', 'deps': [('nsubj', 6)], 'misc': {'Id': '000a', 'LTranslit': 'freska', 'SpaceAfter': 'No', 'Translit': 'freska'}}, {'id': 10, 'form': 'зображення', 'lemma': 'зображення', 'upos': 'NOUN', 'xpos': 'Ncnsnn', 'feats': {'Animacy': 'Inan', 'Case': 'Nom', 'Gender': 'Neut', 'Number': 'Sing'}, 'head': 8, 'deprel': 'appos', 'deps': [('appos', 8)], 'misc': {'Id': '000c', 'LTranslit': 'zobraženńа', 'Translit': 'zobraženńа'}}, {'id': 11, 'form': 'Венери', 'lemma': 'Венера', 'upos': 'PROPN', 'xpos': 'Npfsgy', 'feats': {'Animacy': 'Anim', 'Case': 'Gen', 'Gender': 'Fem', 'NameType': 'Giv', 'Number': 'Sing'}, 'head': 10, 'deprel': 'nmod', 'deps': [('nmod', 10)], 'misc': {'Id': '000d', 'LTranslit': 'Venera', 'Translit': 'Venery'}}], \n\t Top queue: {'id': 14, 'form': '.', 'lemma': '.', 'upos': 'PUNCT', 'xpos': 'U', 'feats': None, 'head': 6, 'deprel': 'punct', 'deps': [('punct', 6)], 'misc': {'Id': '000g', 'LTranslit': '.', 'Translit': '.'}} \n\t Relation [(1, 2), (3, 4), (4, 2), (5, 4), (2, 6), (6, 0), (7, 8), (8, 6), (9, 10), (10, 8), (11, 10), (12, 13), (13, 11)]\nStack: [OrderedDict([('id', 0), ('form', 'ROOT'), ('lemma', 'ROOT'), ('upostag', 'ROOT'), ('xpostag', None), ('feats', None), ('head', None), ('deprel', None), ('deps', None), ('misc', None)]), {'id': 6, 'form': 'була', 'lemma': 'бути', 'upos': 'VERB', 'xpos': 'Vapis-sf', 'feats': {'Aspect': 'Imp', 'Gender': 'Fem', 'Mood': 'Ind', 'Number': 'Sing', 'Tense': 'Past', 'VerbForm': 'Fin'}, 'head': 0, 'deprel': 'root', 'deps': [('root', 0)], 'misc': {'Id': '0008', 'LTranslit': 'buty', 'Translit': 'bula'}}, {'id': 8, 'form': 'фреска', 'lemma': 'фреска', 'upos': 'NOUN', 'xpos': 'Ncfsnn', 'feats': {'Animacy': 'Inan', 'Case': 'Nom', 'Gender': 'Fem', 'Number': 'Sing'}, 'head': 6, 'deprel': 'nsubj', 'deps': [('nsubj', 6)], 'misc': {'Id': '000a', 'LTranslit': 'freska', 'SpaceAfter': 'No', 'Translit': 'freska'}}, {'id': 10, 'form': 'зображення', 'lemma': 'зображення', 'upos': 'NOUN', 'xpos': 'Ncnsnn', 'feats': {'Animacy': 'Inan', 'Case': 'Nom', 'Gender': 'Neut', 'Number': 'Sing'}, 'head': 8, 'deprel': 'appos', 'deps': [('appos', 8)], 'misc': {'Id': '000c', 'LTranslit': 'zobraženńа', 'Translit': 'zobraženńа'}}], \n\t Top queue: {'id': 14, 'form': '.', 'lemma': '.', 'upos': 'PUNCT', 'xpos': 'U', 'feats': None, 'head': 6, 'deprel': 'punct', 'deps': [('punct', 6)], 'misc': {'Id': '000g', 'LTranslit': '.', 'Translit': '.'}} \n\t Relation [(1, 2), (3, 4), (4, 2), (5, 4), (2, 6), (6, 0), (7, 8), (8, 6), (9, 10), (10, 8), (11, 10), (12, 13), (13, 11)]\nStack: [OrderedDict([('id', 0), ('form', 'ROOT'), ('lemma', 'ROOT'), ('upostag', 'ROOT'), ('xpostag', None), ('feats', None), ('head', None), ('deprel', None), ('deps', None), ('misc', None)]), {'id': 6, 'form': 'була', 'lemma': 'бути', 'upos': 'VERB', 'xpos': 'Vapis-sf', 'feats': {'Aspect': 'Imp', 'Gender': 'Fem', 'Mood': 'Ind', 'Number': 'Sing', 'Tense': 'Past', 'VerbForm': 'Fin'}, 'head': 0, 'deprel': 'root', 'deps': [('root', 0)], 'misc': {'Id': '0008', 'LTranslit': 'buty', 'Translit': 'bula'}}, {'id': 8, 'form': 'фреска', 'lemma': 'фреска', 'upos': 'NOUN', 'xpos': 'Ncfsnn', 'feats': {'Animacy': 'Inan', 'Case': 'Nom', 'Gender': 'Fem', 'Number': 'Sing'}, 'head': 6, 'deprel': 'nsubj', 'deps': [('nsubj', 6)], 'misc': {'Id': '000a', 'LTranslit': 'freska', 'SpaceAfter': 'No', 'Translit': 'freska'}}], \n\t Top queue: {'id': 14, 'form': '.', 'lemma': '.', 'upos': 'PUNCT', 'xpos': 'U', 'feats': None, 'head': 6, 'deprel': 'punct', 'deps': [('punct', 6)], 'misc': {'Id': '000g', 'LTranslit': '.', 'Translit': '.'}} \n\t Relation [(1, 2), (3, 4), (4, 2), (5, 4), (2, 6), (6, 0), (7, 8), (8, 6), (9, 10), (10, 8), (11, 10), (12, 13), (13, 11)]\nStack: [OrderedDict([('id', 0), ('form', 'ROOT'), ('lemma', 'ROOT'), ('upostag', 'ROOT'), ('xpostag', None), ('feats', None), ('head', None), ('deprel', None), ('deps', None), ('misc', None)]), {'id': 6, 'form': 'була', 'lemma': 'бути', 'upos': 'VERB', 'xpos': 'Vapis-sf', 'feats': {'Aspect': 'Imp', 'Gender': 'Fem', 'Mood': 'Ind', 'Number': 'Sing', 'Tense': 'Past', 'VerbForm': 'Fin'}, 'head': 0, 'deprel': 'root', 'deps': [('root', 0)], 'misc': {'Id': '0008', 'LTranslit': 'buty', 'Translit': 'bula'}}], \n\t Top queue: {'id': 14, 'form': '.', 'lemma': '.', 'upos': 'PUNCT', 'xpos': 'U', 'feats': None, 'head': 6, 'deprel': 'punct', 'deps': [('punct', 6)], 'misc': {'Id': '000g', 'LTranslit': '.', 'Translit': '.'}} \n\t Relation [(1, 2), (3, 4), (4, 2), (5, 4), (2, 6), (6, 0), (7, 8), (8, 6), (9, 10), (10, 8), (11, 10), (12, 13), (13, 11)]\nStack: [OrderedDict([('id', 0), ('form', 'ROOT'), ('lemma', 'ROOT'), ('upostag', 'ROOT'), ('xpostag', None), ('feats', None), ('head', None), ('deprel', None), ('deps', None), ('misc', None)]), {'id': 6, 'form': 'була', 'lemma': 'бути', 'upos': 'VERB', 'xpos': 'Vapis-sf', 'feats': {'Aspect': 'Imp', 'Gender': 'Fem', 'Mood': 'Ind', 'Number': 'Sing', 'Tense': 'Past', 'VerbForm': 'Fin'}, 'head': 0, 'deprel': 'root', 'deps': [('root', 0)], 'misc': {'Id': '0008', 'LTranslit': 'buty', 'Translit': 'bula'}}, {'id': 14, 'form': '.', 'lemma': '.', 'upos': 'PUNCT', 'xpos': 'U', 'feats': None, 'head': 6, 'deprel': 'punct', 'deps': [('punct', 6)], 'misc': {'Id': '000g', 'LTranslit': '.', 'Translit': '.'}}], \n\t Top queue: None \n\t Relation [(1, 2), (3, 4), (4, 2), (5, 4), (2, 6), (6, 0), (7, 8), (8, 6), (9, 10), (10, 8), (11, 10), (12, 13), (13, 11), (14, 6)]\nStack: [OrderedDict([('id', 0), ('form', 'ROOT'), ('lemma', 'ROOT'), ('upostag', 'ROOT'), ('xpostag', None), ('feats', None), ('head', None), ('deprel', None), ('deps', None), ('misc', None)]), {'id': 6, 'form': 'була', 'lemma': 'бути', 'upos': 'VERB', 'xpos': 'Vapis-sf', 'feats': {'Aspect': 'Imp', 'Gender': 'Fem', 'Mood': 'Ind', 'Number': 'Sing', 'Tense': 'Past', 'VerbForm': 'Fin'}, 'head': 0, 'deprel': 'root', 'deps': [('root', 0)], 'misc': {'Id': '0008', 'LTranslit': 'buty', 'Translit': 'bula'}}], \n\t Top queue: None \n\t Relation [(1, 2), (3, 4), (4, 2), (5, 4), (2, 6), (6, 0), (7, 8), (8, 6), (9, 10), (10, 8), (11, 10), (12, 13), (13, 11), (14, 6)]\nStack: [OrderedDict([('id', 0), ('form', 'ROOT'), ('lemma', 'ROOT'), ('upostag', 'ROOT'), ('xpostag', None), ('feats', None), ('head', None), ('deprel', None), ('deps', None), ('misc', None)])], \n\t Top queue: None \n\t Relation [(1, 2), (3, 4), (4, 2), (5, 4), (2, 6), (6, 0), (7, 8), (8, 6), (9, 10), (10, 8), (11, 10), (12, 13), (13, 11), (14, 6)]\n['shift', 'left', 'shift', 'shift', 'left', 'right', 'right', 'reduce', 'reduce', 'left', 'right', 'shift', 'left', 'right', 'shift', 'left', 'right', 'right', 'shift', 'left', 'right', 'reduce', 'reduce', 'reduce', 'reduce', 'right', 'reduce', 'reduce', 'reduce']\n[{'s0-word': 'ROOT', 's0-lemma': 'ROOT', 's0-tag': 'ROOT', 's0-deprel': None, 'q0-word': 'У', 'q0-lemma': 'у', 'q0-tag': 'ADP', 'q1-word': 'домі', 'q1-tag': 'NOUN', 'q2-tag': 'ADJ', 'q3-tag': 'NOUN'}, {'s0-word': 'У', 's0-lemma': 'у', 's0-tag': 'ADP', 's0-deprel': 'case', 's1-tag': 'ROOT', 'q0-word': 'домі', 'q0-lemma': 'дім', 'q0-tag': 'NOUN', 'q1-word': 'римського', 'q1-tag': 'ADJ', 'q2-tag': 'NOUN', 'q3-tag': 'PROPN'}, {'s0-word': 'ROOT', 's0-lemma': 'ROOT', 's0-tag': 'ROOT', 's0-deprel': None, 'q0-word': 'домі', 'q0-lemma': 'дім', 'q0-tag': 'NOUN', 'q1-word': 'римського', 'q1-tag': 'ADJ', 'q2-tag': 'NOUN', 'q3-tag': 'PROPN'}, {'s0-word': 'домі', 's0-lemma': 'дім', 's0-tag': 'NOUN', 's0-deprel': 'obl', 's1-tag': 'ROOT', 'q0-word': 'римського', 'q0-lemma': 'римський', 'q0-tag': 'ADJ', 'q1-word': 'патриція', 'q1-tag': 'NOUN', 'q2-tag': 'PROPN', 'q3-tag': 'VERB'}, {'s0-word': 'римського', 's0-lemma': 'римський', 's0-tag': 'ADJ', 's0-deprel': 'amod', 's1-tag': 'NOUN', 'q0-word': 'патриція', 'q0-lemma': 'патрицій', 'q0-tag': 'NOUN', 'q1-word': 'Руфіна', 'q1-tag': 'PROPN', 'q2-tag': 'VERB', 'q3-tag': 'ADJ'}, {'s0-word': 'домі', 's0-lemma': 'дім', 's0-tag': 'NOUN', 's0-deprel': 'obl', 's1-tag': 'ROOT', 'q0-word': 'патриція', 'q0-lemma': 'патрицій', 'q0-tag': 'NOUN', 'q1-word': 'Руфіна', 'q1-tag': 'PROPN', 'q2-tag': 'VERB', 'q3-tag': 'ADJ'}, {'s0-word': 'патриція', 's0-lemma': 'патрицій', 's0-tag': 'NOUN', 's0-deprel': 'nmod', 's1-tag': 'NOUN', 'q0-word': 'Руфіна', 'q0-lemma': 'Руфін', 'q0-tag': 'PROPN', 'q1-word': 'була', 'q1-tag': 'VERB', 'q2-tag': 'ADJ', 'q3-tag': 'NOUN'}, {'s0-word': 'Руфіна', 's0-lemma': 'Руфін', 's0-tag': 'PROPN', 's0-deprel': 'flat:title', 's1-tag': 'NOUN', 'q0-word': 'була', 'q0-lemma': 'бути', 'q0-tag': 'VERB', 'q1-word': 'прегарна', 'q1-tag': 'ADJ', 'q2-tag': 'NOUN', 'q3-tag': 'PUNCT'}, {'s0-word': 'патриція', 's0-lemma': 'патрицій', 's0-tag': 'NOUN', 's0-deprel': 'nmod', 's1-tag': 'NOUN', 'q0-word': 'була', 'q0-lemma': 'бути', 'q0-tag': 'VERB', 'q1-word': 'прегарна', 'q1-tag': 'ADJ', 'q2-tag': 'NOUN', 'q3-tag': 'PUNCT'}, {'s0-word': 'домі', 's0-lemma': 'дім', 's0-tag': 'NOUN', 's0-deprel': 'obl', 's1-tag': 'ROOT', 'q0-word': 'була', 'q0-lemma': 'бути', 'q0-tag': 'VERB', 'q1-word': 'прегарна', 'q1-tag': 'ADJ', 'q2-tag': 'NOUN', 'q3-tag': 'PUNCT'}, {'s0-word': 'ROOT', 's0-lemma': 'ROOT', 's0-tag': 'ROOT', 's0-deprel': None, 'q0-word': 'була', 'q0-lemma': 'бути', 'q0-tag': 'VERB', 'q1-word': 'прегарна', 'q1-tag': 'ADJ', 'q2-tag': 'NOUN', 'q3-tag': 'PUNCT'}, {'s0-word': 'була', 's0-lemma': 'бути', 's0-tag': 'VERB', 's0-deprel': 'root', 's1-tag': 'ROOT', 'q0-word': 'прегарна', 'q0-lemma': 'прегарний', 'q0-tag': 'ADJ', 'q1-word': 'фреска', 'q1-tag': 'NOUN', 'q2-tag': 'PUNCT', 'q3-tag': 'NOUN'}, {'s0-word': 'прегарна', 's0-lemma': 'прегарний', 's0-tag': 'ADJ', 's0-deprel': 'amod', 's1-tag': 'VERB', 'q0-word': 'фреска', 'q0-lemma': 'фреска', 'q0-tag': 'NOUN', 'q1-word': ',', 'q1-tag': 'PUNCT', 'q2-tag': 'NOUN', 'q3-tag': 'PROPN'}, {'s0-word': 'була', 's0-lemma': 'бути', 's0-tag': 'VERB', 's0-deprel': 'root', 's1-tag': 'ROOT', 'q0-word': 'фреска', 'q0-lemma': 'фреска', 'q0-tag': 'NOUN', 'q1-word': ',', 'q1-tag': 'PUNCT', 'q2-tag': 'NOUN', 'q3-tag': 'PROPN'}, {'s0-word': 'фреска', 's0-lemma': 'фреска', 's0-tag': 'NOUN', 's0-deprel': 'nsubj', 's1-tag': 'VERB', 'q0-word': ',', 'q0-lemma': ',', 'q0-tag': 'PUNCT', 'q1-word': 'зображення', 'q1-tag': 'NOUN', 'q2-tag': 'PROPN', 'q3-tag': 'CCONJ'}, {'s0-word': ',', 's0-lemma': ',', 's0-tag': 'PUNCT', 's0-deprel': 'punct', 's1-tag': 'NOUN', 'q0-word': 'зображення', 'q0-lemma': 'зображення', 'q0-tag': 'NOUN', 'q1-word': 'Венери', 'q1-tag': 'PROPN', 'q2-tag': 'CCONJ', 'q3-tag': 'PROPN'}, {'s0-word': 'фреска', 's0-lemma': 'фреска', 's0-tag': 'NOUN', 's0-deprel': 'nsubj', 's1-tag': 'VERB', 'q0-word': 'зображення', 'q0-lemma': 'зображення', 'q0-tag': 'NOUN', 'q1-word': 'Венери', 'q1-tag': 'PROPN', 'q2-tag': 'CCONJ', 'q3-tag': 'PROPN'}, {'s0-word': 'зображення', 's0-lemma': 'зображення', 's0-tag': 'NOUN', 's0-deprel': 'appos', 's1-tag': 'NOUN', 'q0-word': 'Венери', 'q0-lemma': 'Венера', 'q0-tag': 'PROPN', 'q1-word': 'та', 'q1-tag': 'CCONJ', 'q2-tag': 'PROPN', 'q3-tag': 'PUNCT'}, {'s0-word': 'Венери', 's0-lemma': 'Венера', 's0-tag': 'PROPN', 's0-deprel': 'nmod', 's1-tag': 'NOUN', 'q0-word': 'та', 'q0-lemma': 'та', 'q0-tag': 'CCONJ', 'q1-word': 'Адоніса', 'q1-tag': 'PROPN', 'q2-tag': 'PUNCT'}, {'s0-word': 'та', 's0-lemma': 'та', 's0-tag': 'CCONJ', 's0-deprel': 'cc', 's1-tag': 'PROPN', 'q0-word': 'Адоніса', 'q0-lemma': 'Адоніс', 'q0-tag': 'PROPN', 'q1-word': '.', 'q1-tag': 'PUNCT'}, {'s0-word': 'Венери', 's0-lemma': 'Венера', 's0-tag': 'PROPN', 's0-deprel': 'nmod', 's1-tag': 'NOUN', 'q0-word': 'Адоніса', 'q0-lemma': 'Адоніс', 'q0-tag': 'PROPN', 'q1-word': '.', 'q1-tag': 'PUNCT'}, {'s0-word': 'Адоніса', 's0-lemma': 'Адоніс', 's0-tag': 'PROPN', 's0-deprel': 'conj', 's1-tag': 'PROPN', 'q0-word': '.', 'q0-lemma': '.', 'q0-tag': 'PUNCT'}, {'s0-word': 'Венери', 's0-lemma': 'Венера', 's0-tag': 'PROPN', 's0-deprel': 'nmod', 's1-tag': 'NOUN', 'q0-word': '.', 'q0-lemma': '.', 'q0-tag': 'PUNCT'}, {'s0-word': 'зображення', 's0-lemma': 'зображення', 's0-tag': 'NOUN', 's0-deprel': 'appos', 's1-tag': 'NOUN', 'q0-word': '.', 'q0-lemma': '.', 'q0-tag': 'PUNCT'}, {'s0-word': 'фреска', 's0-lemma': 'фреска', 's0-tag': 'NOUN', 's0-deprel': 'nsubj', 's1-tag': 'VERB', 'q0-word': '.', 'q0-lemma': '.', 'q0-tag': 'PUNCT'}, {'s0-word': 'була', 's0-lemma': 'бути', 's0-tag': 'VERB', 's0-deprel': 'root', 's1-tag': 'ROOT', 'q0-word': '.', 'q0-lemma': '.', 'q0-tag': 'PUNCT'}, {'s0-word': '.', 's0-lemma': '.', 's0-tag': 'PUNCT', 's0-deprel': 'punct', 's1-tag': 'VERB'}, {'s0-word': 'була', 's0-lemma': 'бути', 's0-tag': 'VERB', 's0-deprel': 'root', 's1-tag': 'ROOT'}, {'s0-word': 'ROOT', 's0-lemma': 'ROOT', 's0-tag': 'ROOT', 's0-deprel': None}]\n29 29\n"
    }
   ],
   "source": [
    "# A simple hack would be to check the type of the node id\n",
    "\n",
    "verbose = True\n",
    "\n",
    "train_features, train_labels = [], []\n",
    "for tree in train_trees:\n",
    "    if verbose:\n",
    "        print(tree.metadata['text'])\n",
    "    tree_features, tree_labels = get_data([t for t in tree if type(t[\"id\"])==int],verbose)\n",
    "    train_features += tree_features\n",
    "    train_labels += tree_labels\n",
    "    if verbose:\n",
    "        print(tree_labels)\n",
    "        print(tree_features)\n",
    "        break\n",
    "\n",
    "print(len(train_features), len(train_labels))"
   ]
  },
  {
   "cell_type": "code",
   "execution_count": 52,
   "metadata": {},
   "outputs": [
    {
     "output_type": "stream",
     "name": "stdout",
     "text": "25820 25820\n"
    }
   ],
   "source": [
    "# Test data\n",
    "\n",
    "test_features, test_labels = [], []\n",
    "for tree in test_trees:\n",
    "    tree_features, tree_labels = get_data([t for t in tree if type(t[\"id\"])==int])\n",
    "    test_features += tree_features\n",
    "    test_labels += tree_labels\n",
    "\n",
    "print(len(test_features), len(test_labels))"
   ]
  },
  {
   "cell_type": "markdown",
   "metadata": {},
   "source": [
    "## Train a classifier"
   ]
  },
  {
   "cell_type": "code",
   "execution_count": 53,
   "metadata": {},
   "outputs": [],
   "source": [
    "from sklearn.feature_extraction import DictVectorizer\n",
    "from sklearn.linear_model import LogisticRegression\n",
    "from sklearn.metrics import classification_report"
   ]
  },
  {
   "cell_type": "code",
   "execution_count": 54,
   "metadata": {},
   "outputs": [
    {
     "output_type": "stream",
     "name": "stdout",
     "text": "\nTotal number of features:  111184\n"
    }
   ],
   "source": [
    "vectorizer = DictVectorizer()\n",
    "vec = vectorizer.fit(train_features)\n",
    "\n",
    "print(\"\\nTotal number of features: \", len(vec.get_feature_names()))"
   ]
  },
  {
   "cell_type": "code",
   "execution_count": 55,
   "metadata": {},
   "outputs": [],
   "source": [
    "train_features_vectorized = vec.transform(train_features)\n",
    "test_features_vectorized = vec.transform(test_features)\n",
    "# print(len(train_features_vectorized.toarray()), len(test_features_vectorized.toarray()))"
   ]
  },
  {
   "cell_type": "code",
   "execution_count": 56,
   "metadata": {},
   "outputs": [
    {
     "output_type": "error",
     "ename": "ValueError",
     "evalue": "Input contains NaN, infinity or a value too large for dtype('float64').",
     "traceback": [
      "\u001b[0;31m---------------------------------------------------------------------------\u001b[0m",
      "\u001b[0;31mValueError\u001b[0m                                Traceback (most recent call last)",
      "\u001b[0;32m<ipython-input-56-2703fbe24fed>\u001b[0m in \u001b[0;36m<module>\u001b[0;34m\u001b[0m\n\u001b[1;32m      1\u001b[0m \u001b[0mlrc\u001b[0m \u001b[0;34m=\u001b[0m \u001b[0mLogisticRegression\u001b[0m\u001b[0;34m(\u001b[0m\u001b[0mrandom_state\u001b[0m\u001b[0;34m=\u001b[0m\u001b[0;36m42\u001b[0m\u001b[0;34m,\u001b[0m \u001b[0msolver\u001b[0m\u001b[0;34m=\u001b[0m\u001b[0;34m\"saga\"\u001b[0m\u001b[0;34m,\u001b[0m \u001b[0mmulti_class\u001b[0m\u001b[0;34m=\u001b[0m\u001b[0;34m\"multinomial\"\u001b[0m\u001b[0;34m,\u001b[0m \u001b[0mmax_iter\u001b[0m\u001b[0;34m=\u001b[0m\u001b[0;36m600\u001b[0m\u001b[0;34m,\u001b[0m \u001b[0mverbose\u001b[0m\u001b[0;34m=\u001b[0m\u001b[0;36m1\u001b[0m\u001b[0;34m)\u001b[0m\u001b[0;34m\u001b[0m\u001b[0;34m\u001b[0m\u001b[0m\n\u001b[0;32m----> 2\u001b[0;31m \u001b[0mlrc\u001b[0m\u001b[0;34m.\u001b[0m\u001b[0mfit\u001b[0m\u001b[0;34m(\u001b[0m\u001b[0mtrain_features_vectorized\u001b[0m\u001b[0;34m,\u001b[0m \u001b[0mtrain_labels\u001b[0m\u001b[0;34m)\u001b[0m\u001b[0;34m\u001b[0m\u001b[0;34m\u001b[0m\u001b[0m\n\u001b[0m",
      "\u001b[0;32m~/ds/nlp/module3/env/lib/python3.7/site-packages/sklearn/linear_model/_logistic.py\u001b[0m in \u001b[0;36mfit\u001b[0;34m(self, X, y, sample_weight)\u001b[0m\n\u001b[1;32m   1342\u001b[0m         X, y = self._validate_data(X, y, accept_sparse='csr', dtype=_dtype,\n\u001b[1;32m   1343\u001b[0m                                    \u001b[0morder\u001b[0m\u001b[0;34m=\u001b[0m\u001b[0;34m\"C\"\u001b[0m\u001b[0;34m,\u001b[0m\u001b[0;34m\u001b[0m\u001b[0;34m\u001b[0m\u001b[0m\n\u001b[0;32m-> 1344\u001b[0;31m                                    accept_large_sparse=solver != 'liblinear')\n\u001b[0m\u001b[1;32m   1345\u001b[0m         \u001b[0mcheck_classification_targets\u001b[0m\u001b[0;34m(\u001b[0m\u001b[0my\u001b[0m\u001b[0;34m)\u001b[0m\u001b[0;34m\u001b[0m\u001b[0;34m\u001b[0m\u001b[0m\n\u001b[1;32m   1346\u001b[0m         \u001b[0mself\u001b[0m\u001b[0;34m.\u001b[0m\u001b[0mclasses_\u001b[0m \u001b[0;34m=\u001b[0m \u001b[0mnp\u001b[0m\u001b[0;34m.\u001b[0m\u001b[0munique\u001b[0m\u001b[0;34m(\u001b[0m\u001b[0my\u001b[0m\u001b[0;34m)\u001b[0m\u001b[0;34m\u001b[0m\u001b[0;34m\u001b[0m\u001b[0m\n",
      "\u001b[0;32m~/ds/nlp/module3/env/lib/python3.7/site-packages/sklearn/base.py\u001b[0m in \u001b[0;36m_validate_data\u001b[0;34m(self, X, y, reset, validate_separately, **check_params)\u001b[0m\n\u001b[1;32m    430\u001b[0m                 \u001b[0my\u001b[0m \u001b[0;34m=\u001b[0m \u001b[0mcheck_array\u001b[0m\u001b[0;34m(\u001b[0m\u001b[0my\u001b[0m\u001b[0;34m,\u001b[0m \u001b[0;34m**\u001b[0m\u001b[0mcheck_y_params\u001b[0m\u001b[0;34m)\u001b[0m\u001b[0;34m\u001b[0m\u001b[0;34m\u001b[0m\u001b[0m\n\u001b[1;32m    431\u001b[0m             \u001b[0;32melse\u001b[0m\u001b[0;34m:\u001b[0m\u001b[0;34m\u001b[0m\u001b[0;34m\u001b[0m\u001b[0m\n\u001b[0;32m--> 432\u001b[0;31m                 \u001b[0mX\u001b[0m\u001b[0;34m,\u001b[0m \u001b[0my\u001b[0m \u001b[0;34m=\u001b[0m \u001b[0mcheck_X_y\u001b[0m\u001b[0;34m(\u001b[0m\u001b[0mX\u001b[0m\u001b[0;34m,\u001b[0m \u001b[0my\u001b[0m\u001b[0;34m,\u001b[0m \u001b[0;34m**\u001b[0m\u001b[0mcheck_params\u001b[0m\u001b[0;34m)\u001b[0m\u001b[0;34m\u001b[0m\u001b[0;34m\u001b[0m\u001b[0m\n\u001b[0m\u001b[1;32m    433\u001b[0m             \u001b[0mout\u001b[0m \u001b[0;34m=\u001b[0m \u001b[0mX\u001b[0m\u001b[0;34m,\u001b[0m \u001b[0my\u001b[0m\u001b[0;34m\u001b[0m\u001b[0;34m\u001b[0m\u001b[0m\n\u001b[1;32m    434\u001b[0m \u001b[0;34m\u001b[0m\u001b[0m\n",
      "\u001b[0;32m~/ds/nlp/module3/env/lib/python3.7/site-packages/sklearn/utils/validation.py\u001b[0m in \u001b[0;36minner_f\u001b[0;34m(*args, **kwargs)\u001b[0m\n\u001b[1;32m     70\u001b[0m                           FutureWarning)\n\u001b[1;32m     71\u001b[0m         \u001b[0mkwargs\u001b[0m\u001b[0;34m.\u001b[0m\u001b[0mupdate\u001b[0m\u001b[0;34m(\u001b[0m\u001b[0;34m{\u001b[0m\u001b[0mk\u001b[0m\u001b[0;34m:\u001b[0m \u001b[0marg\u001b[0m \u001b[0;32mfor\u001b[0m \u001b[0mk\u001b[0m\u001b[0;34m,\u001b[0m \u001b[0marg\u001b[0m \u001b[0;32min\u001b[0m \u001b[0mzip\u001b[0m\u001b[0;34m(\u001b[0m\u001b[0msig\u001b[0m\u001b[0;34m.\u001b[0m\u001b[0mparameters\u001b[0m\u001b[0;34m,\u001b[0m \u001b[0margs\u001b[0m\u001b[0;34m)\u001b[0m\u001b[0;34m}\u001b[0m\u001b[0;34m)\u001b[0m\u001b[0;34m\u001b[0m\u001b[0;34m\u001b[0m\u001b[0m\n\u001b[0;32m---> 72\u001b[0;31m         \u001b[0;32mreturn\u001b[0m \u001b[0mf\u001b[0m\u001b[0;34m(\u001b[0m\u001b[0;34m**\u001b[0m\u001b[0mkwargs\u001b[0m\u001b[0;34m)\u001b[0m\u001b[0;34m\u001b[0m\u001b[0;34m\u001b[0m\u001b[0m\n\u001b[0m\u001b[1;32m     73\u001b[0m     \u001b[0;32mreturn\u001b[0m \u001b[0minner_f\u001b[0m\u001b[0;34m\u001b[0m\u001b[0;34m\u001b[0m\u001b[0m\n\u001b[1;32m     74\u001b[0m \u001b[0;34m\u001b[0m\u001b[0m\n",
      "\u001b[0;32m~/ds/nlp/module3/env/lib/python3.7/site-packages/sklearn/utils/validation.py\u001b[0m in \u001b[0;36mcheck_X_y\u001b[0;34m(X, y, accept_sparse, accept_large_sparse, dtype, order, copy, force_all_finite, ensure_2d, allow_nd, multi_output, ensure_min_samples, ensure_min_features, y_numeric, estimator)\u001b[0m\n\u001b[1;32m    800\u001b[0m                     \u001b[0mensure_min_samples\u001b[0m\u001b[0;34m=\u001b[0m\u001b[0mensure_min_samples\u001b[0m\u001b[0;34m,\u001b[0m\u001b[0;34m\u001b[0m\u001b[0;34m\u001b[0m\u001b[0m\n\u001b[1;32m    801\u001b[0m                     \u001b[0mensure_min_features\u001b[0m\u001b[0;34m=\u001b[0m\u001b[0mensure_min_features\u001b[0m\u001b[0;34m,\u001b[0m\u001b[0;34m\u001b[0m\u001b[0;34m\u001b[0m\u001b[0m\n\u001b[0;32m--> 802\u001b[0;31m                     estimator=estimator)\n\u001b[0m\u001b[1;32m    803\u001b[0m     \u001b[0;32mif\u001b[0m \u001b[0mmulti_output\u001b[0m\u001b[0;34m:\u001b[0m\u001b[0;34m\u001b[0m\u001b[0;34m\u001b[0m\u001b[0m\n\u001b[1;32m    804\u001b[0m         y = check_array(y, accept_sparse='csr', force_all_finite=True,\n",
      "\u001b[0;32m~/ds/nlp/module3/env/lib/python3.7/site-packages/sklearn/utils/validation.py\u001b[0m in \u001b[0;36minner_f\u001b[0;34m(*args, **kwargs)\u001b[0m\n\u001b[1;32m     70\u001b[0m                           FutureWarning)\n\u001b[1;32m     71\u001b[0m         \u001b[0mkwargs\u001b[0m\u001b[0;34m.\u001b[0m\u001b[0mupdate\u001b[0m\u001b[0;34m(\u001b[0m\u001b[0;34m{\u001b[0m\u001b[0mk\u001b[0m\u001b[0;34m:\u001b[0m \u001b[0marg\u001b[0m \u001b[0;32mfor\u001b[0m \u001b[0mk\u001b[0m\u001b[0;34m,\u001b[0m \u001b[0marg\u001b[0m \u001b[0;32min\u001b[0m \u001b[0mzip\u001b[0m\u001b[0;34m(\u001b[0m\u001b[0msig\u001b[0m\u001b[0;34m.\u001b[0m\u001b[0mparameters\u001b[0m\u001b[0;34m,\u001b[0m \u001b[0margs\u001b[0m\u001b[0;34m)\u001b[0m\u001b[0;34m}\u001b[0m\u001b[0;34m)\u001b[0m\u001b[0;34m\u001b[0m\u001b[0;34m\u001b[0m\u001b[0m\n\u001b[0;32m---> 72\u001b[0;31m         \u001b[0;32mreturn\u001b[0m \u001b[0mf\u001b[0m\u001b[0;34m(\u001b[0m\u001b[0;34m**\u001b[0m\u001b[0mkwargs\u001b[0m\u001b[0;34m)\u001b[0m\u001b[0;34m\u001b[0m\u001b[0;34m\u001b[0m\u001b[0m\n\u001b[0m\u001b[1;32m     73\u001b[0m     \u001b[0;32mreturn\u001b[0m \u001b[0minner_f\u001b[0m\u001b[0;34m\u001b[0m\u001b[0;34m\u001b[0m\u001b[0m\n\u001b[1;32m     74\u001b[0m \u001b[0;34m\u001b[0m\u001b[0m\n",
      "\u001b[0;32m~/ds/nlp/module3/env/lib/python3.7/site-packages/sklearn/utils/validation.py\u001b[0m in \u001b[0;36mcheck_array\u001b[0;34m(array, accept_sparse, accept_large_sparse, dtype, order, copy, force_all_finite, ensure_2d, allow_nd, ensure_min_samples, ensure_min_features, estimator)\u001b[0m\n\u001b[1;32m    576\u001b[0m                                       \u001b[0mdtype\u001b[0m\u001b[0;34m=\u001b[0m\u001b[0mdtype\u001b[0m\u001b[0;34m,\u001b[0m \u001b[0mcopy\u001b[0m\u001b[0;34m=\u001b[0m\u001b[0mcopy\u001b[0m\u001b[0;34m,\u001b[0m\u001b[0;34m\u001b[0m\u001b[0;34m\u001b[0m\u001b[0m\n\u001b[1;32m    577\u001b[0m                                       \u001b[0mforce_all_finite\u001b[0m\u001b[0;34m=\u001b[0m\u001b[0mforce_all_finite\u001b[0m\u001b[0;34m,\u001b[0m\u001b[0;34m\u001b[0m\u001b[0;34m\u001b[0m\u001b[0m\n\u001b[0;32m--> 578\u001b[0;31m                                       accept_large_sparse=accept_large_sparse)\n\u001b[0m\u001b[1;32m    579\u001b[0m     \u001b[0;32melse\u001b[0m\u001b[0;34m:\u001b[0m\u001b[0;34m\u001b[0m\u001b[0;34m\u001b[0m\u001b[0m\n\u001b[1;32m    580\u001b[0m         \u001b[0;31m# If np.array(..) gives ComplexWarning, then we convert the warning\u001b[0m\u001b[0;34m\u001b[0m\u001b[0;34m\u001b[0m\u001b[0;34m\u001b[0m\u001b[0m\n",
      "\u001b[0;32m~/ds/nlp/module3/env/lib/python3.7/site-packages/sklearn/utils/validation.py\u001b[0m in \u001b[0;36m_ensure_sparse_format\u001b[0;34m(spmatrix, accept_sparse, dtype, copy, force_all_finite, accept_large_sparse)\u001b[0m\n\u001b[1;32m    383\u001b[0m         \u001b[0;32melse\u001b[0m\u001b[0;34m:\u001b[0m\u001b[0;34m\u001b[0m\u001b[0;34m\u001b[0m\u001b[0m\n\u001b[1;32m    384\u001b[0m             _assert_all_finite(spmatrix.data,\n\u001b[0;32m--> 385\u001b[0;31m                                allow_nan=force_all_finite == 'allow-nan')\n\u001b[0m\u001b[1;32m    386\u001b[0m \u001b[0;34m\u001b[0m\u001b[0m\n\u001b[1;32m    387\u001b[0m     \u001b[0;32mreturn\u001b[0m \u001b[0mspmatrix\u001b[0m\u001b[0;34m\u001b[0m\u001b[0;34m\u001b[0m\u001b[0m\n",
      "\u001b[0;32m~/ds/nlp/module3/env/lib/python3.7/site-packages/sklearn/utils/validation.py\u001b[0m in \u001b[0;36m_assert_all_finite\u001b[0;34m(X, allow_nan, msg_dtype)\u001b[0m\n\u001b[1;32m     97\u001b[0m                     \u001b[0mmsg_err\u001b[0m\u001b[0;34m.\u001b[0m\u001b[0mformat\u001b[0m\u001b[0;34m\u001b[0m\u001b[0;34m\u001b[0m\u001b[0m\n\u001b[1;32m     98\u001b[0m                     (type_err,\n\u001b[0;32m---> 99\u001b[0;31m                      msg_dtype if msg_dtype is not None else X.dtype)\n\u001b[0m\u001b[1;32m    100\u001b[0m             )\n\u001b[1;32m    101\u001b[0m     \u001b[0;31m# for object dtype data, we only check for NaNs (GH-13254)\u001b[0m\u001b[0;34m\u001b[0m\u001b[0;34m\u001b[0m\u001b[0;34m\u001b[0m\u001b[0m\n",
      "\u001b[0;31mValueError\u001b[0m: Input contains NaN, infinity or a value too large for dtype('float64')."
     ]
    }
   ],
   "source": [
    "lrc = LogisticRegression(random_state=42, solver=\"saga\", multi_class=\"multinomial\", max_iter=600, verbose=1)\n",
    "lrc.fit(train_features_vectorized, train_labels)"
   ]
  },
  {
   "cell_type": "code",
   "execution_count": 16,
   "metadata": {},
   "outputs": [
    {
     "output_type": "stream",
     "name": "stdout",
     "text": "precision    recall  f1-score   support\n\n        left       0.86      0.87      0.86      6371\n      reduce       0.85      0.78      0.81      6875\n       right       0.75      0.79      0.77      5996\n       shift       0.85      0.87      0.86      6578\n\n    accuracy                           0.83     25820\n   macro avg       0.83      0.83      0.83     25820\nweighted avg       0.83      0.83      0.83     25820\n\n"
    }
   ],
   "source": [
    "predicted = lrc.predict(test_features_vectorized)\n",
    "print(classification_report(test_labels, predicted))"
   ]
  },
  {
   "cell_type": "markdown",
   "metadata": {},
   "source": [
    "## Calculate the unlabeled attachment score\n",
    "UAS - the percentage of words in an input that are assigned the correct head."
   ]
  },
  {
   "cell_type": "code",
   "execution_count": 17,
   "metadata": {},
   "outputs": [],
   "source": [
    "def dep_parse(sentence, oracle, vectorizer, log=True):\n",
    "    stack, queue, relations = [ROOT], sentence[:], []\n",
    "    while queue or stack:\n",
    "        if stack and not queue:\n",
    "            stack.pop()\n",
    "        else:\n",
    "            features = extract_features(stack, queue)\n",
    "            action = oracle.predict(vectorizer.transform([features]))[0]\n",
    "            # actual parsing\n",
    "            if action == Actions.SHIFT:\n",
    "                stack.append(queue.pop(0))\n",
    "            elif action == Actions.REDUCE:\n",
    "                stack.pop()\n",
    "            elif action == Actions.LEFT:\n",
    "                relations.append((stack[-1][\"id\"], queue[0][\"id\"]))\n",
    "                stack.pop()\n",
    "            elif action == Actions.RIGHT:\n",
    "                relations.append((queue[0][\"id\"], stack[-1][\"id\"]))\n",
    "                stack.append(queue.pop(0))\n",
    "            else:\n",
    "                print(\"Unknown action.\")\n",
    "    return sorted(relations)"
   ]
  },
  {
   "cell_type": "code",
   "execution_count": 18,
   "metadata": {},
   "outputs": [
    {
     "output_type": "stream",
     "name": "stdout",
     "text": "Total: 12574\nCorrectly defined: 8717\nUAS: 0.69\nFull match: 0.09\n"
    }
   ],
   "source": [
    "total, tp, full_match = 0, 0, 0\n",
    "for tree in test_trees:\n",
    "    tree = [t for t in tree if type(t[\"id\"])==int]\n",
    "    golden = [(node[\"id\"], node[\"head\"]) for node in tree]\n",
    "    predicted = dep_parse(tree, lrc, vec, log=False)\n",
    "    total += len(tree)\n",
    "    tp += len(set(golden).intersection(set(predicted)))\n",
    "    if set(golden) == set(predicted):\n",
    "        full_match += 1\n",
    "\n",
    "print(\"Total:\", total)\n",
    "print(\"Correctly defined:\", tp)\n",
    "print(\"UAS:\", round(tp/total, 2))\n",
    "print(\"Full match:\", round(full_match/len(test_trees), 2))"
   ]
  },
  {
   "cell_type": "markdown",
   "metadata": {},
   "source": [
    "## Find non-projective trees"
   ]
  },
  {
   "cell_type": "code",
   "execution_count": 19,
   "metadata": {},
   "outputs": [
    {
     "output_type": "stream",
     "name": "stdout",
     "text": "The percentage of non-projective trees is 7.99 (439 out of 5496).\nIDs: [4, 9, 13, 19, 22, 28, 29, 33, 34, 43]\n"
    }
   ],
   "source": [
    "def is_non_projective(tree):\n",
    "    relations = [[i['id'], i['head']] for i in tree if type(i[\"id\"])==int]\n",
    "    for rel in relations:\n",
    "        for ref_rel in relations:\n",
    "            a, c = sorted(rel)\n",
    "            b, d = sorted(ref_rel)\n",
    "            if a < b and b < c and c < d:\n",
    "                return True\n",
    "    return False\n",
    "\n",
    "total_non_pr = 0\n",
    "tree_ids = []\n",
    "for i in range(len(train_trees)):\n",
    "    if is_non_projective(train_trees[i]):\n",
    "        total_non_pr += 1\n",
    "        tree_ids.append(i)\n",
    "\n",
    "print(\"The percentage of non-projective trees is {} ({} out of {}).\".\n",
    "      format(round(total_non_pr * 100 / len(train_trees), 2), total_non_pr, len(train_trees)))\n",
    "\n",
    "print(\"IDs:\", tree_ids[:10])"
   ]
  }
 ],
 "metadata": {
  "kernelspec": {
   "display_name": "Python 3.7.6 64-bit ('env': venv)",
   "language": "python",
   "name": "python37664bitenvvenvfffd7d7fcdfa4206a59fb1836506d979"
  },
  "language_info": {
   "codemirror_mode": {
    "name": "ipython",
    "version": 3
   },
   "file_extension": ".py",
   "mimetype": "text/x-python",
   "name": "python",
   "nbconvert_exporter": "python",
   "pygments_lexer": "ipython3",
   "version": "3.7.6-final"
  }
 },
 "nbformat": 4,
 "nbformat_minor": 2
}