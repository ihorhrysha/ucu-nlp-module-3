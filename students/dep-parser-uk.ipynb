{
 "cells": [
  {
   "cell_type": "markdown",
   "metadata": {},
   "source": [
    "# Transition-based arc-eager unlabeled dependency parser for Ukrainian"
   ]
  },
  {
   "cell_type": "markdown",
   "metadata": {},
   "source": [
    "## Read the data\n",
    "\n",
    "Useful links:\n",
    "* [UD corpus for Ukrainian](https://github.com/UniversalDependencies/UD_Ukrainian-IU/)\n",
    "* [Easy-to-use library for parsing UD](https://github.com/EmilStenstrom/conllu)"
   ]
  },
  {
   "cell_type": "code",
   "execution_count": 8,
   "metadata": {},
   "outputs": [
    {
     "output_type": "stream",
     "name": "stdout",
     "text": "/home/ihor/ds/nlp/module3/students\n"
    }
   ],
   "source": [
    "!pwd"
   ]
  },
  {
   "cell_type": "code",
   "execution_count": 15,
   "metadata": {},
   "outputs": [],
   "source": [
    "from collections import OrderedDict\n",
    "from conllu import parse\n",
    "from enum import Enum\n",
    "\n",
    "PATH = \"UD_Ukrainian-IU\"\n",
    "\n",
    "with open(PATH + \"/uk_iu-ud-train.conllu.txt\", \"r\") as f:\n",
    "    train_trees = parse(f.read())\n",
    "\n",
    "with open(PATH + \"/uk_iu-ud-dev.conllu.txt\", \"r\") as f:\n",
    "    test_trees = parse(f.read())"
   ]
  },
  {
   "cell_type": "code",
   "execution_count": 16,
   "metadata": {},
   "outputs": [
    {
     "output_type": "stream",
     "name": "stdout",
     "text": "У домі римського патриція Руфіна була прегарна фреска, зображення Венери та Адоніса.\n(deprel:root) form:була lemma:бути upos:VERB [6]\n    (deprel:obl) form:домі lemma:дім upos:NOUN [2]\n        (deprel:case) form:У lemma:у upos:ADP [1]\n        (deprel:nmod) form:патриція lemma:патрицій upos:NOUN [4]\n            (deprel:amod) form:римського lemma:римський upos:ADJ [3]\n            (deprel:flat:title) form:Руфіна lemma:Руфін upos:PROPN [5]\n    (deprel:nsubj) form:фреска lemma:фреска upos:NOUN [8]\n        (deprel:amod) form:прегарна lemma:прегарний upos:ADJ [7]\n        (deprel:appos) form:зображення lemma:зображення upos:NOUN [10]\n            (deprel:punct) form:, lemma:, upos:PUNCT [9]\n            (deprel:nmod) form:Венери lemma:Венера upos:PROPN [11]\n                (deprel:conj) form:Адоніса lemma:Адоніс upos:PROPN [13]\n                    (deprel:cc) form:та lemma:та upos:CCONJ [12]\n    (deprel:punct) form:. lemma:. upos:PUNCT [14]\n"
    }
   ],
   "source": [
    "print(train_trees[0].metadata['text'])\n",
    "train_trees[0].to_tree().print_tree()"
   ]
  },
  {
   "cell_type": "markdown",
   "metadata": {},
   "source": [
    "## Design actions and the oracle\n",
    "\n",
    "We will be using a static oracle that reproduces a single valid order of actions."
   ]
  },
  {
   "cell_type": "code",
   "execution_count": 43,
   "metadata": {},
   "outputs": [],
   "source": [
    "class Actions(str, Enum):\n",
    "    SHIFT = \"shift\"\n",
    "    REDUCE = \"reduce\"\n",
    "    RIGHT = \"right\"\n",
    "    LEFT = \"left\"\n",
    "    SWAP = \"swap\""
   ]
  },
  {
   "cell_type": "code",
   "execution_count": 48,
   "metadata": {},
   "outputs": [],
   "source": [
    "def oracle_arc_eager(stack, queue, relations):\n",
    "    \"\"\"\n",
    "    Make a decision on the right action to do.\n",
    "    \"\"\"\n",
    "    top_stack = stack[-1]\n",
    "    top_queue = queue[0] if queue else None\n",
    "    \n",
    "    # check if both stack and queue are non-empty\n",
    "    if top_stack and not top_queue:\n",
    "        return Actions.REDUCE\n",
    "    # check if there are any clear dependencies\n",
    "    elif top_queue[\"head\"] == top_stack[\"id\"]:\n",
    "        return Actions.RIGHT\n",
    "    elif top_stack[\"head\"] == top_queue[\"id\"]:\n",
    "        return Actions.LEFT\n",
    "    # check if we can reduce the top of the stack\n",
    "    elif top_stack[\"id\"] in [i[0] for i in relations] and \\\n",
    "         (top_queue[\"head\"] < top_stack[\"id\"] or \\\n",
    "          [s for s in stack if s[\"head\"] == top_queue[\"id\"]]):\n",
    "        return Actions.REDUCE\n",
    "    # default option\n",
    "    else:\n",
    "        return Actions.SHIFT\n"
   ]
  },
  {
   "cell_type": "markdown",
   "metadata": {},
   "source": [
    "## Feature extraction\n",
    "\n",
    "Reference: [Dependency Parsing by Kübler, McDonald, and Nivre](https://books.google.com.ua/books?id=k3iiup7HB9UC&pg=PA21&hl=uk&source=gbs_toc_r&cad=4#v=onepage&q&f=false)"
   ]
  },
  {
   "cell_type": "code",
   "execution_count": 19,
   "metadata": {},
   "outputs": [],
   "source": [
    "def extract_features(stack, queue):\n",
    "    features = dict()\n",
    "    if len(stack) > 0:\n",
    "        stack_top = stack[-1]\n",
    "        features[\"s0-word\"] = stack_top[\"form\"]\n",
    "        features[\"s0-lemma\"] = stack_top[\"lemma\"]\n",
    "        features[\"s0-tag\"] = stack_top[\"upostag\"]\n",
    "    if len(stack) > 1:\n",
    "        features[\"s1-tag\"] = stack[-2][\"upostag\"]\n",
    "    if queue:\n",
    "        queue_top = queue[0]\n",
    "        features[\"q0-word\"] = queue_top[\"form\"]\n",
    "        features[\"q0-lemma\"] = queue_top[\"lemma\"]\n",
    "        features[\"q0-tag\"] = queue_top[\"upostag\"]\n",
    "    if len(queue) > 1:\n",
    "        queue_next = queue[1]\n",
    "        features[\"q1-word\"] = queue_next[\"form\"]\n",
    "        features[\"q1-tag\"] = queue_next[\"upostag\"]\n",
    "    if len(queue) > 2:\n",
    "        features[\"q2-tag\"] = queue[2][\"upostag\"]\n",
    "    if len(queue) > 3:\n",
    "        features[\"q3-tag\"] = queue[3][\"upostag\"]\n",
    "    return features"
   ]
  },
  {
   "cell_type": "markdown",
   "metadata": {},
   "source": [
    "## Prepare train and test data"
   ]
  },
  {
   "cell_type": "code",
   "execution_count": 20,
   "metadata": {},
   "outputs": [],
   "source": [
    "ROOT = OrderedDict([('id', 0), ('form', 'ROOT'), ('lemma', 'ROOT'), ('upostag', 'ROOT'),\n",
    "                    ('xpostag', None), ('feats', None), ('head', None), ('deprel', None),\n",
    "                    ('deps', None), ('misc', None)])"
   ]
  },
  {
   "cell_type": "code",
   "execution_count": 50,
   "metadata": {},
   "outputs": [],
   "source": [
    "def get_data(tree, oracle=None, verbose=False):\n",
    "    features, labels = [], []\n",
    "    stack, queue, relations, relations_human = [ROOT], tree[:], [], []\n",
    "\n",
    "    if oracle is None:\n",
    "        oracle = oracle_arc_eager\n",
    "\n",
    "    while queue or stack:\n",
    "        # get action\n",
    "        action = oracle(stack if len(stack) > 0 else None,\n",
    "                        queue if len(queue) > 0 else None,\n",
    "                        relations)\n",
    "        if verbose:\n",
    "            print(\"-\"*20)\n",
    "            print(f\"Stack: {[t['form'] for t in stack] if stack else []}\")\n",
    "            print(f\"Queue: {[t['form'] for t in queue] if queue else [] }\")\n",
    "\n",
    "        # Update train data\n",
    "        features.append(extract_features(stack, queue))\n",
    "        labels.append(action.value)\n",
    "        \n",
    "        # Perform action\n",
    "        if action == Actions.SHIFT:\n",
    "            stack.append(queue.pop(0))\n",
    "        elif action == Actions.REDUCE:\n",
    "            stack.pop()\n",
    "        elif action == Actions.LEFT:\n",
    "            relations.append((stack[-1][\"id\"], queue[0][\"id\"]))\n",
    "            if verbose:\n",
    "                relations_human.append((stack[-1][\"form\"], queue[0][\"form\"]))\n",
    "            stack.pop()\n",
    "        elif action == Actions.RIGHT:\n",
    "            relations.append((queue[0][\"id\"], stack[-1][\"id\"]))\n",
    "            if verbose:\n",
    "                relations_human.append((queue[0][\"form\"], stack[-1][\"form\"]))\n",
    "            stack.append(queue.pop(0))\n",
    "        elif action == Actions.SWAP:\n",
    "            \n",
    "        else:\n",
    "            print(\"Unknown action.\")\n",
    "\n",
    "        if verbose:\n",
    "            print(f\"\\t Relation {relations_human}\")\n",
    "            print(f\"\\t Action: {action}\")  \n",
    "            \n",
    "    return features, labels"
   ]
  },
  {
   "cell_type": "code",
   "execution_count": 58,
   "metadata": {},
   "outputs": [
    {
     "output_type": "stream",
     "name": "stdout",
     "text": "У домі римського патриція Руфіна була прегарна фреска, зображення Венери та Адоніса.\n--------------------\nStack: ['ROOT']\nQueue: ['У', 'домі', 'римського', 'патриція', 'Руфіна', 'була', 'прегарна', 'фреска', ',', 'зображення', 'Венери', 'та', 'Адоніса', '.']\n\t Relation []\n\t Action: shift\n--------------------\nStack: ['ROOT', 'У']\nQueue: ['домі', 'римського', 'патриція', 'Руфіна', 'була', 'прегарна', 'фреска', ',', 'зображення', 'Венери', 'та', 'Адоніса', '.']\n\t Relation [('У', 'домі')]\n\t Action: left\n--------------------\nStack: ['ROOT']\nQueue: ['домі', 'римського', 'патриція', 'Руфіна', 'була', 'прегарна', 'фреска', ',', 'зображення', 'Венери', 'та', 'Адоніса', '.']\n\t Relation [('У', 'домі')]\n\t Action: shift\n--------------------\nStack: ['ROOT', 'домі']\nQueue: ['римського', 'патриція', 'Руфіна', 'була', 'прегарна', 'фреска', ',', 'зображення', 'Венери', 'та', 'Адоніса', '.']\n\t Relation [('У', 'домі')]\n\t Action: shift\n--------------------\nStack: ['ROOT', 'домі', 'римського']\nQueue: ['патриція', 'Руфіна', 'була', 'прегарна', 'фреска', ',', 'зображення', 'Венери', 'та', 'Адоніса', '.']\n\t Relation [('У', 'домі'), ('римського', 'патриція')]\n\t Action: left\n--------------------\nStack: ['ROOT', 'домі']\nQueue: ['патриція', 'Руфіна', 'була', 'прегарна', 'фреска', ',', 'зображення', 'Венери', 'та', 'Адоніса', '.']\n\t Relation [('У', 'домі'), ('римського', 'патриція'), ('патриція', 'домі')]\n\t Action: right\n--------------------\nStack: ['ROOT', 'домі', 'патриція']\nQueue: ['Руфіна', 'була', 'прегарна', 'фреска', ',', 'зображення', 'Венери', 'та', 'Адоніса', '.']\n\t Relation [('У', 'домі'), ('римського', 'патриція'), ('патриція', 'домі'), ('Руфіна', 'патриція')]\n\t Action: right\n--------------------\nStack: ['ROOT', 'домі', 'патриція', 'Руфіна']\nQueue: ['була', 'прегарна', 'фреска', ',', 'зображення', 'Венери', 'та', 'Адоніса', '.']\n\t Relation [('У', 'домі'), ('римського', 'патриція'), ('патриція', 'домі'), ('Руфіна', 'патриція')]\n\t Action: reduce\n--------------------\nStack: ['ROOT', 'домі', 'патриція']\nQueue: ['була', 'прегарна', 'фреска', ',', 'зображення', 'Венери', 'та', 'Адоніса', '.']\n\t Relation [('У', 'домі'), ('римського', 'патриція'), ('патриція', 'домі'), ('Руфіна', 'патриція')]\n\t Action: reduce\n--------------------\nStack: ['ROOT', 'домі']\nQueue: ['була', 'прегарна', 'фреска', ',', 'зображення', 'Венери', 'та', 'Адоніса', '.']\n\t Relation [('У', 'домі'), ('римського', 'патриція'), ('патриція', 'домі'), ('Руфіна', 'патриція'), ('домі', 'була')]\n\t Action: left\n--------------------\nStack: ['ROOT']\nQueue: ['була', 'прегарна', 'фреска', ',', 'зображення', 'Венери', 'та', 'Адоніса', '.']\n\t Relation [('У', 'домі'), ('римського', 'патриція'), ('патриція', 'домі'), ('Руфіна', 'патриція'), ('домі', 'була'), ('була', 'ROOT')]\n\t Action: right\n--------------------\nStack: ['ROOT', 'була']\nQueue: ['прегарна', 'фреска', ',', 'зображення', 'Венери', 'та', 'Адоніса', '.']\n\t Relation [('У', 'домі'), ('римського', 'патриція'), ('патриція', 'домі'), ('Руфіна', 'патриція'), ('домі', 'була'), ('була', 'ROOT')]\n\t Action: shift\n--------------------\nStack: ['ROOT', 'була', 'прегарна']\nQueue: ['фреска', ',', 'зображення', 'Венери', 'та', 'Адоніса', '.']\n\t Relation [('У', 'домі'), ('римського', 'патриція'), ('патриція', 'домі'), ('Руфіна', 'патриція'), ('домі', 'була'), ('була', 'ROOT'), ('прегарна', 'фреска')]\n\t Action: left\n--------------------\nStack: ['ROOT', 'була']\nQueue: ['фреска', ',', 'зображення', 'Венери', 'та', 'Адоніса', '.']\n\t Relation [('У', 'домі'), ('римського', 'патриція'), ('патриція', 'домі'), ('Руфіна', 'патриція'), ('домі', 'була'), ('була', 'ROOT'), ('прегарна', 'фреска'), ('фреска', 'була')]\n\t Action: right\n--------------------\nStack: ['ROOT', 'була', 'фреска']\nQueue: [',', 'зображення', 'Венери', 'та', 'Адоніса', '.']\n\t Relation [('У', 'домі'), ('римського', 'патриція'), ('патриція', 'домі'), ('Руфіна', 'патриція'), ('домі', 'була'), ('була', 'ROOT'), ('прегарна', 'фреска'), ('фреска', 'була')]\n\t Action: shift\n--------------------\nStack: ['ROOT', 'була', 'фреска', ',']\nQueue: ['зображення', 'Венери', 'та', 'Адоніса', '.']\n\t Relation [('У', 'домі'), ('римського', 'патриція'), ('патриція', 'домі'), ('Руфіна', 'патриція'), ('домі', 'була'), ('була', 'ROOT'), ('прегарна', 'фреска'), ('фреска', 'була'), (',', 'зображення')]\n\t Action: left\n--------------------\nStack: ['ROOT', 'була', 'фреска']\nQueue: ['зображення', 'Венери', 'та', 'Адоніса', '.']\n\t Relation [('У', 'домі'), ('римського', 'патриція'), ('патриція', 'домі'), ('Руфіна', 'патриція'), ('домі', 'була'), ('була', 'ROOT'), ('прегарна', 'фреска'), ('фреска', 'була'), (',', 'зображення'), ('зображення', 'фреска')]\n\t Action: right\n--------------------\nStack: ['ROOT', 'була', 'фреска', 'зображення']\nQueue: ['Венери', 'та', 'Адоніса', '.']\n\t Relation [('У', 'домі'), ('римського', 'патриція'), ('патриція', 'домі'), ('Руфіна', 'патриція'), ('домі', 'була'), ('була', 'ROOT'), ('прегарна', 'фреска'), ('фреска', 'була'), (',', 'зображення'), ('зображення', 'фреска'), ('Венери', 'зображення')]\n\t Action: right\n--------------------\nStack: ['ROOT', 'була', 'фреска', 'зображення', 'Венери']\nQueue: ['та', 'Адоніса', '.']\n\t Relation [('У', 'домі'), ('римського', 'патриція'), ('патриція', 'домі'), ('Руфіна', 'патриція'), ('домі', 'була'), ('була', 'ROOT'), ('прегарна', 'фреска'), ('фреска', 'була'), (',', 'зображення'), ('зображення', 'фреска'), ('Венери', 'зображення')]\n\t Action: shift\n--------------------\nStack: ['ROOT', 'була', 'фреска', 'зображення', 'Венери', 'та']\nQueue: ['Адоніса', '.']\n\t Relation [('У', 'домі'), ('римського', 'патриція'), ('патриція', 'домі'), ('Руфіна', 'патриція'), ('домі', 'була'), ('була', 'ROOT'), ('прегарна', 'фреска'), ('фреска', 'була'), (',', 'зображення'), ('зображення', 'фреска'), ('Венери', 'зображення'), ('та', 'Адоніса')]\n\t Action: left\n--------------------\nStack: ['ROOT', 'була', 'фреска', 'зображення', 'Венери']\nQueue: ['Адоніса', '.']\n\t Relation [('У', 'домі'), ('римського', 'патриція'), ('патриція', 'домі'), ('Руфіна', 'патриція'), ('домі', 'була'), ('була', 'ROOT'), ('прегарна', 'фреска'), ('фреска', 'була'), (',', 'зображення'), ('зображення', 'фреска'), ('Венери', 'зображення'), ('та', 'Адоніса'), ('Адоніса', 'Венери')]\n\t Action: right\n--------------------\nStack: ['ROOT', 'була', 'фреска', 'зображення', 'Венери', 'Адоніса']\nQueue: ['.']\n\t Relation [('У', 'домі'), ('римського', 'патриція'), ('патриція', 'домі'), ('Руфіна', 'патриція'), ('домі', 'була'), ('була', 'ROOT'), ('прегарна', 'фреска'), ('фреска', 'була'), (',', 'зображення'), ('зображення', 'фреска'), ('Венери', 'зображення'), ('та', 'Адоніса'), ('Адоніса', 'Венери')]\n\t Action: reduce\n--------------------\nStack: ['ROOT', 'була', 'фреска', 'зображення', 'Венери']\nQueue: ['.']\n\t Relation [('У', 'домі'), ('римського', 'патриція'), ('патриція', 'домі'), ('Руфіна', 'патриція'), ('домі', 'була'), ('була', 'ROOT'), ('прегарна', 'фреска'), ('фреска', 'була'), (',', 'зображення'), ('зображення', 'фреска'), ('Венери', 'зображення'), ('та', 'Адоніса'), ('Адоніса', 'Венери')]\n\t Action: reduce\n--------------------\nStack: ['ROOT', 'була', 'фреска', 'зображення']\nQueue: ['.']\n\t Relation [('У', 'домі'), ('римського', 'патриція'), ('патриція', 'домі'), ('Руфіна', 'патриція'), ('домі', 'була'), ('була', 'ROOT'), ('прегарна', 'фреска'), ('фреска', 'була'), (',', 'зображення'), ('зображення', 'фреска'), ('Венери', 'зображення'), ('та', 'Адоніса'), ('Адоніса', 'Венери')]\n\t Action: reduce\n--------------------\nStack: ['ROOT', 'була', 'фреска']\nQueue: ['.']\n\t Relation [('У', 'домі'), ('римського', 'патриція'), ('патриція', 'домі'), ('Руфіна', 'патриція'), ('домі', 'була'), ('була', 'ROOT'), ('прегарна', 'фреска'), ('фреска', 'була'), (',', 'зображення'), ('зображення', 'фреска'), ('Венери', 'зображення'), ('та', 'Адоніса'), ('Адоніса', 'Венери')]\n\t Action: reduce\n--------------------\nStack: ['ROOT', 'була']\nQueue: ['.']\n\t Relation [('У', 'домі'), ('римського', 'патриція'), ('патриція', 'домі'), ('Руфіна', 'патриція'), ('домі', 'була'), ('була', 'ROOT'), ('прегарна', 'фреска'), ('фреска', 'була'), (',', 'зображення'), ('зображення', 'фреска'), ('Венери', 'зображення'), ('та', 'Адоніса'), ('Адоніса', 'Венери'), ('.', 'була')]\n\t Action: right\n--------------------\nStack: ['ROOT', 'була', '.']\nQueue: []\n\t Relation [('У', 'домі'), ('римського', 'патриція'), ('патриція', 'домі'), ('Руфіна', 'патриція'), ('домі', 'була'), ('була', 'ROOT'), ('прегарна', 'фреска'), ('фреска', 'була'), (',', 'зображення'), ('зображення', 'фреска'), ('Венери', 'зображення'), ('та', 'Адоніса'), ('Адоніса', 'Венери'), ('.', 'була')]\n\t Action: reduce\n--------------------\nStack: ['ROOT', 'була']\nQueue: []\n\t Relation [('У', 'домі'), ('римського', 'патриція'), ('патриція', 'домі'), ('Руфіна', 'патриція'), ('домі', 'була'), ('була', 'ROOT'), ('прегарна', 'фреска'), ('фреска', 'була'), (',', 'зображення'), ('зображення', 'фреска'), ('Венери', 'зображення'), ('та', 'Адоніса'), ('Адоніса', 'Венери'), ('.', 'була')]\n\t Action: reduce\n--------------------\nStack: ['ROOT']\nQueue: []\n\t Relation [('У', 'домі'), ('римського', 'патриція'), ('патриція', 'домі'), ('Руфіна', 'патриція'), ('домі', 'була'), ('була', 'ROOT'), ('прегарна', 'фреска'), ('фреска', 'була'), (',', 'зображення'), ('зображення', 'фреска'), ('Венери', 'зображення'), ('та', 'Адоніса'), ('Адоніса', 'Венери'), ('.', 'була')]\n\t Action: reduce\n"
    }
   ],
   "source": [
    "# Algorithm exploration \n",
    "def show_oracle_prophecy(tree, oracle=None):\n",
    "    print(tree.metadata['text'])\n",
    "    get_data([t for t in tree if type(t[\"id\"])==int], oracle=oracle ,verbose=True)\n",
    "\n",
    "show_oracle_prophecy(train_trees[0])"
   ]
  },
  {
   "cell_type": "code",
   "execution_count": 51,
   "metadata": {
    "tags": [
     "outputPrepend"
    ]
   },
   "outputs": [
    {
     "output_type": "stream",
     "name": "stdout",
     "text": "190298 190298\n"
    }
   ],
   "source": [
    "# A simple hack would be to check the type of the node id\n",
    "\n",
    "train_features, train_labels = [], []\n",
    "for tree in train_trees:\n",
    "    tree_features, tree_labels = get_data([t for t in tree if type(t[\"id\"])==int])\n",
    "    train_features += tree_features\n",
    "    train_labels += tree_labels\n",
    "\n",
    "print(len(train_features), len(train_labels))"
   ]
  },
  {
   "cell_type": "code",
   "execution_count": 27,
   "metadata": {},
   "outputs": [
    {
     "output_type": "stream",
     "name": "stdout",
     "text": "25820 25820\n"
    }
   ],
   "source": [
    "# Test data\n",
    "\n",
    "test_features, test_labels = [], []\n",
    "for tree in test_trees:\n",
    "    tree_features, tree_labels = get_data([t for t in tree if type(t[\"id\"])==int])\n",
    "    test_features += tree_features\n",
    "    test_labels += tree_labels\n",
    "\n",
    "print(len(test_features), len(test_labels))"
   ]
  },
  {
   "cell_type": "markdown",
   "metadata": {},
   "source": [
    "## Train a classifier"
   ]
  },
  {
   "cell_type": "code",
   "execution_count": 28,
   "metadata": {},
   "outputs": [],
   "source": [
    "from sklearn.feature_extraction import DictVectorizer\n",
    "from sklearn.linear_model import LogisticRegression\n",
    "from sklearn.metrics import classification_report"
   ]
  },
  {
   "cell_type": "code",
   "execution_count": 29,
   "metadata": {},
   "outputs": [
    {
     "output_type": "stream",
     "name": "stdout",
     "text": "\nTotal number of features:  111126\n"
    }
   ],
   "source": [
    "vectorizer = DictVectorizer()\n",
    "vec = vectorizer.fit(train_features)\n",
    "\n",
    "print(\"\\nTotal number of features: \", len(vec.get_feature_names()))"
   ]
  },
  {
   "cell_type": "code",
   "execution_count": 30,
   "metadata": {},
   "outputs": [],
   "source": [
    "train_features_vectorized = vec.transform(train_features)\n",
    "test_features_vectorized = vec.transform(test_features)\n",
    "\n",
    "# Breaks my computer\n",
    "# print(len(train_features_vectorized.toarray()), len(test_features_vectorized.toarray()))"
   ]
  },
  {
   "cell_type": "code",
   "execution_count": 31,
   "metadata": {},
   "outputs": [
    {
     "output_type": "stream",
     "name": "stderr",
     "text": "[Parallel(n_jobs=1)]: Using backend SequentialBackend with 1 concurrent workers.\nconvergence after 546 epochs took 178 seconds\n[Parallel(n_jobs=1)]: Done   1 out of   1 | elapsed:  3.0min finished\n"
    },
    {
     "output_type": "execute_result",
     "data": {
      "text/plain": "LogisticRegression(max_iter=600, multi_class='multinomial', random_state=42,\n                   solver='saga', verbose=1)"
     },
     "metadata": {},
     "execution_count": 31
    }
   ],
   "source": [
    "lrc = LogisticRegression(random_state=42, solver=\"saga\", multi_class=\"multinomial\", max_iter=600, verbose=1)\n",
    "lrc.fit(train_features_vectorized, train_labels)"
   ]
  },
  {
   "cell_type": "code",
   "execution_count": 32,
   "metadata": {},
   "outputs": [
    {
     "output_type": "stream",
     "name": "stdout",
     "text": "precision    recall  f1-score   support\n\n        left       0.86      0.87      0.86      6371\n      reduce       0.85      0.78      0.81      6875\n       right       0.75      0.79      0.77      5996\n       shift       0.85      0.87      0.86      6578\n\n    accuracy                           0.83     25820\n   macro avg       0.83      0.83      0.83     25820\nweighted avg       0.83      0.83      0.83     25820\n\n"
    }
   ],
   "source": [
    "predicted = lrc.predict(test_features_vectorized)\n",
    "print(classification_report(test_labels, predicted))"
   ]
  },
  {
   "cell_type": "markdown",
   "metadata": {},
   "source": [
    "## Calculate the unlabeled attachment score\n",
    "UAS - the percentage of words in an input that are assigned the correct head."
   ]
  },
  {
   "cell_type": "code",
   "execution_count": 33,
   "metadata": {},
   "outputs": [],
   "source": [
    "def dep_parse(sentence, oracle, vectorizer, log=True):\n",
    "    stack, queue, relations = [ROOT], sentence[:], []\n",
    "    while queue or stack:\n",
    "        if stack and not queue:\n",
    "            stack.pop()\n",
    "        else:\n",
    "            features = extract_features(stack, queue)\n",
    "            action = oracle.predict(vectorizer.transform([features]))[0]\n",
    "            # actual parsing\n",
    "            if action == Actions.SHIFT:\n",
    "                stack.append(queue.pop(0))\n",
    "            elif action == Actions.REDUCE:\n",
    "                stack.pop()\n",
    "            elif action == Actions.LEFT:\n",
    "                relations.append((stack[-1][\"id\"], queue[0][\"id\"]))\n",
    "                stack.pop()\n",
    "            elif action == Actions.RIGHT:\n",
    "                relations.append((queue[0][\"id\"], stack[-1][\"id\"]))\n",
    "                stack.append(queue.pop(0))\n",
    "            else:\n",
    "                print(\"Unknown action.\")\n",
    "    return sorted(relations)"
   ]
  },
  {
   "cell_type": "code",
   "execution_count": 34,
   "metadata": {},
   "outputs": [
    {
     "output_type": "stream",
     "name": "stdout",
     "text": "Total: 12574\nCorrectly defined: 8717\nUAS: 0.69\nFull match: 0.09\n"
    }
   ],
   "source": [
    "total, tp, full_match = 0, 0, 0\n",
    "for tree in test_trees:\n",
    "    tree = [t for t in tree if type(t[\"id\"])==int]\n",
    "    golden = [(node[\"id\"], node[\"head\"]) for node in tree]\n",
    "    predicted = dep_parse(tree, lrc, vec, log=False)\n",
    "    total += len(tree)\n",
    "    tp += len(set(golden).intersection(set(predicted)))\n",
    "    if set(golden) == set(predicted):\n",
    "        full_match += 1\n",
    "\n",
    "print(\"Total:\", total)\n",
    "print(\"Correctly defined:\", tp)\n",
    "print(\"UAS:\", round(tp/total, 2))\n",
    "print(\"Full match:\", round(full_match/len(test_trees), 2))"
   ]
  },
  {
   "cell_type": "markdown",
   "metadata": {},
   "source": [
    "## Find non-projective trees"
   ]
  },
  {
   "cell_type": "code",
   "execution_count": 37,
   "metadata": {},
   "outputs": [
    {
     "output_type": "stream",
     "name": "stdout",
     "text": "The percentage of non-projective trees is 7.99 (439 out of 5496).\nIDs: [4, 9, 13, 19, 22, 28, 29, 33, 34, 43]\n"
    }
   ],
   "source": [
    "def is_non_projective(tree):\n",
    "    relations = [[i['id'], i['head']] for i in tree if type(i[\"id\"])==int]\n",
    "    for rel in relations:\n",
    "        for ref_rel in relations:\n",
    "            a, c = sorted(rel)\n",
    "            b, d = sorted(ref_rel)\n",
    "            if a < b and b < c and c < d:\n",
    "                return True\n",
    "    return False\n",
    "\n",
    "total_non_pr = 0\n",
    "np_tree_ids = []\n",
    "for i in range(len(train_trees)):\n",
    "    if is_non_projective(train_trees[i]):\n",
    "        total_non_pr += 1\n",
    "        np_tree_ids.append(i)\n",
    "\n",
    "print(\"The percentage of non-projective trees is {} ({} out of {}).\".\n",
    "      format(round(total_non_pr * 100 / len(train_trees), 2), total_non_pr, len(train_trees)))\n",
    "\n",
    "print(\"IDs:\", np_tree_ids[:10])"
   ]
  },
  {
   "cell_type": "markdown",
   "metadata": {},
   "source": [
    "## Nonprojectivity. Swap"
   ]
  },
  {
   "cell_type": "code",
   "execution_count": 39,
   "metadata": {},
   "outputs": [
    {
     "output_type": "stream",
     "name": "stdout",
     "text": "1042\nЯкось треба жити.\n"
    }
   ],
   "source": [
    "# find the smalest nonprojective tree. Why its non-projective? How to fix it?\n",
    "smallest_len = 99999\n",
    "smallest_np_tree_id = -1\n",
    "\n",
    "for np_tree_id in np_tree_ids:\n",
    "    if len(train_trees[np_tree_id])<smallest_len:\n",
    "        smallest_np_tree_id = np_tree_id\n",
    "        smallest_len = len(train_trees[np_tree_id])\n",
    "        # print(smallest_np_tree_id)\n",
    "        # print(train_trees[smallest_np_tree_id].metadata['text'])\n",
    "\n",
    "print(smallest_np_tree_id)\n",
    "print(train_trees[smallest_np_tree_id].metadata['text'])"
   ]
  },
  {
   "cell_type": "code",
   "execution_count": 42,
   "metadata": {},
   "outputs": [
    {
     "output_type": "stream",
     "name": "stdout",
     "text": "1 якось 3\n2 треба 0\n3 жити 2\n4 . 2\n"
    }
   ],
   "source": [
    "for token in train_trees[1042]:\n",
    "    print(token['id'], token['lemma'], token['head'])"
   ]
  },
  {
   "cell_type": "code",
   "execution_count": 59,
   "metadata": {},
   "outputs": [
    {
     "output_type": "stream",
     "name": "stdout",
     "text": "Якось треба жити.\n--------------------\nStack: ['ROOT']\nQueue: ['Якось', 'треба', 'жити', '.']\n\t Relation []\n\t Action: shift\n--------------------\nStack: ['ROOT', 'Якось']\nQueue: ['треба', 'жити', '.']\n\t Relation []\n\t Action: shift\n--------------------\nStack: ['ROOT', 'Якось', 'треба']\nQueue: ['жити', '.']\n\t Relation [('жити', 'треба')]\n\t Action: right\n--------------------\nStack: ['ROOT', 'Якось', 'треба', 'жити']\nQueue: ['.']\n\t Relation [('жити', 'треба')]\n\t Action: reduce\n--------------------\nStack: ['ROOT', 'Якось', 'треба']\nQueue: ['.']\n\t Relation [('жити', 'треба'), ('.', 'треба')]\n\t Action: right\n--------------------\nStack: ['ROOT', 'Якось', 'треба', '.']\nQueue: []\n\t Relation [('жити', 'треба'), ('.', 'треба')]\n\t Action: reduce\n--------------------\nStack: ['ROOT', 'Якось', 'треба']\nQueue: []\n\t Relation [('жити', 'треба'), ('.', 'треба')]\n\t Action: reduce\n--------------------\nStack: ['ROOT', 'Якось']\nQueue: []\n\t Relation [('жити', 'треба'), ('.', 'треба')]\n\t Action: reduce\n--------------------\nStack: ['ROOT']\nQueue: []\n\t Relation [('жити', 'треба'), ('.', 'треба')]\n\t Action: reduce\n"
    }
   ],
   "source": [
    "# show_oracle_prophecy(train_trees[1041])\n",
    "show_oracle_prophecy(train_trees[1042])"
   ]
  },
  {
   "cell_type": "code",
   "execution_count": null,
   "metadata": {},
   "outputs": [],
   "source": [
    "def oracle_arc_eager_swap(stack, queue, relations):\n",
    "    \"\"\"\n",
    "    Make a decision on the right action to do.\n",
    "    \"\"\"\n",
    "    top_stack = stack[-1]\n",
    "    top_queue = queue[0] if queue else None\n",
    "    \n",
    "    # check if both stack and queue are non-empty\n",
    "    if top_stack and not top_queue:\n",
    "        return Actions.REDUCE\n",
    "    # check if there are any clear dependencies\n",
    "    elif top_queue[\"head\"] == top_stack[\"id\"]:\n",
    "        return Actions.RIGHT\n",
    "    elif top_stack[\"head\"] == top_queue[\"id\"]:\n",
    "        return Actions.LEFT\n",
    "    # check if we can reduce the top of the stack\n",
    "    elif top_stack[\"id\"] in [i[0] for i in relations] and \\\n",
    "         (top_queue[\"head\"] < top_stack[\"id\"] or \\\n",
    "          [s for s in stack if s[\"head\"] == top_queue[\"id\"]]):\n",
    "        return Actions.REDUCE\n",
    "    # default option\n",
    "    else:\n",
    "        print(\"***Default***\")\n",
    "        return Actions.SHIFT"
   ]
  }
 ],
 "metadata": {
  "kernelspec": {
   "display_name": "Python 3.7.6 64-bit ('env': venv)",
   "language": "python",
   "name": "python37664bitenvvenvfffd7d7fcdfa4206a59fb1836506d979"
  },
  "language_info": {
   "codemirror_mode": {
    "name": "ipython",
    "version": 3
   },
   "file_extension": ".py",
   "mimetype": "text/x-python",
   "name": "python",
   "nbconvert_exporter": "python",
   "pygments_lexer": "ipython3",
   "version": "3.7.6-final"
  }
 },
 "nbformat": 4,
 "nbformat_minor": 2
}